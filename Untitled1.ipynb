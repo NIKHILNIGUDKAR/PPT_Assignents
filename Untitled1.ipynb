{
  "nbformat": 4,
  "nbformat_minor": 0,
  "metadata": {
    "colab": {
      "provenance": []
    },
    "kernelspec": {
      "name": "python3",
      "display_name": "Python 3"
    },
    "language_info": {
      "name": "python"
    }
  },
  "cells": [
    {
      "cell_type": "markdown",
      "source": [
        "<aside>\n",
        "💡 1. **Roman to Integer**\n",
        "\n",
        "Roman numerals are represented by seven different symbols: `I`, `V`, `X`, `L`, `C`, `D` and `M`.\n",
        "\n",
        "```\n",
        "SymbolValue\n",
        "I             1\n",
        "V             5\n",
        "X             10\n",
        "L             50\n",
        "C             100\n",
        "D             500\n",
        "M             1000\n",
        "```\n",
        "\n",
        "For example, `2` is written as `II` in Roman numeral, just two ones added together. `12` is written as `XII`, which is simply `X + II`. The number `27` is written as `XXVII`, which is `XX + V + II`.\n",
        "\n",
        "Roman numerals are usually written largest to smallest from left to right. However, the numeral for four is not `IIII`. Instead, the number four is written as `IV`. Because the one is before the five we subtract it making four. The same principle applies to the number nine, which is written as `IX`. There are six instances where subtraction is used:\n",
        "\n",
        "- `I` can be placed before `V` (5) and `X` (10) to make 4 and 9.\n",
        "- `X` can be placed before `L` (50) and `C` (100) to make 40 and 90.\n",
        "- `C` can be placed before `D` (500) and `M` (1000) to make 400 and 900.\n",
        "\n",
        "Given a roman numeral, convert it to an integer.\n",
        "\n",
        "**Example 1:**\n",
        "\n",
        "```\n",
        "Input: s = \"III\"\n",
        "Output: 3\n",
        "Explanation: III = 3.\n",
        "```\n",
        "\n",
        "**Example 2:**\n",
        "\n",
        "```\n",
        "Input: s = \"LVIII\"\n",
        "Output: 58\n",
        "Explanation: L = 50, V= 5, III = 3.\n",
        "```\n",
        "\n",
        "**Constraints:**\n",
        "\n",
        "- `1 <= s.length <= 15`\n",
        "- `s` contains only the characters `('I', 'V', 'X', 'L', 'C', 'D', 'M')`.\n",
        "- It is **guaranteed** that `s` is a valid roman numeral in the range `[1, 3999]`.\n",
        "</aside>"
      ],
      "metadata": {
        "id": "ybGVrhKgQ5AA"
      }
    },
    {
      "cell_type": "code",
      "source": [
        "def romanToInt(s):\n",
        "    roman_values = {'I': 1, 'V': 5, 'X': 10, 'L': 50, 'C': 100, 'D': 500, 'M': 1000}\n",
        "    result = 0\n",
        "    prev_value = 0\n",
        "\n",
        "    for c in reversed(s):\n",
        "        value = roman_values[c]\n",
        "        if value >= prev_value:\n",
        "            result += value\n",
        "        else:\n",
        "            result -= value\n",
        "        prev_value = value\n",
        "\n",
        "    return result\n",
        "\n",
        "\n",
        "# Example usage:\n",
        "\n",
        "s = \"LVIII\"\n",
        "output = romanToInt(s)\n",
        "print(\"Output:\", output)"
      ],
      "metadata": {
        "colab": {
          "base_uri": "https://localhost:8080/"
        },
        "id": "88I-zqCoQ4oB",
        "outputId": "9bc81145-6e43-48b8-df3e-52c869c4f510"
      },
      "execution_count": 2,
      "outputs": [
        {
          "output_type": "stream",
          "name": "stdout",
          "text": [
            "Output: 58\n"
          ]
        }
      ]
    },
    {
      "cell_type": "markdown",
      "source": [
        "<aside>\n",
        "💡 2. **Longest Substring Without Repeating Characters**\n",
        "\n",
        "Given a string `s`, find the length of the **longest substring** without repeating characters.\n",
        "\n",
        "**Example 1:**\n",
        "\n",
        "```\n",
        "Input: s = \"abcabcbb\"\n",
        "Output: 3\n",
        "Explanation: The answer is \"abc\", with the length of 3.\n",
        "```\n",
        "\n",
        "**Example 2:**\n",
        "\n",
        "```\n",
        "Input: s = \"bbbbb\"\n",
        "Output: 1\n",
        "Explanation: The answer is \"b\", with the length of 1.\n",
        "```\n",
        "\n",
        "**Example 3:**\n",
        "\n",
        "```\n",
        "Input: s = \"pwwkew\"\n",
        "Output: 3\n",
        "Explanation: The answer is \"wke\", with the length of 3.\n",
        "Notice that the answer must be a substring, \"pwke\" is a subsequence and not a substring.\n",
        "```\n",
        "\n",
        "**Constraints:**\n",
        "\n",
        "- `0 <= s.length <= 50000`\n",
        "- `s` consists of English letters, digits, symbols and spaces.\n",
        "</aside>"
      ],
      "metadata": {
        "id": "ba0t-WLNQ5q4"
      }
    },
    {
      "cell_type": "code",
      "source": [
        "def lengthOfLongestSubstring(s):\n",
        "    char_set = set()\n",
        "    left = 0\n",
        "    max_length = 0\n",
        "\n",
        "    for right in range(len(s)):\n",
        "        while s[right] in char_set:\n",
        "            char_set.remove(s[left])\n",
        "            left += 1\n",
        "        char_set.add(s[right])\n",
        "        max_length = max(max_length, right - left + 1)\n",
        "\n",
        "    return max_length\n",
        "\n",
        "\n",
        "# Example usage:\n",
        "\n",
        "s = \"abcabcbb\"\n",
        "output = lengthOfLongestSubstring(s)\n",
        "print(\"Output:\", output)"
      ],
      "metadata": {
        "colab": {
          "base_uri": "https://localhost:8080/"
        },
        "id": "GLdbh0kfQ4lT",
        "outputId": "bbaa225e-4d6c-4949-c5f6-7880f8b1f8e1"
      },
      "execution_count": 3,
      "outputs": [
        {
          "output_type": "stream",
          "name": "stdout",
          "text": [
            "Output: 3\n"
          ]
        }
      ]
    },
    {
      "cell_type": "markdown",
      "source": [
        "<aside>\n",
        "💡 3. **Majority Element**\n",
        "\n",
        "Given an array `nums` of size `n`, return *the majority element*.\n",
        "\n",
        "The majority element is the element that appears more than `⌊n / 2⌋` times. You may assume that the majority element always exists in the array.\n",
        "\n",
        "**Example 1:**\n",
        "\n",
        "```\n",
        "Input: nums = [3,2,3]\n",
        "Output: 3\n",
        "```\n",
        "\n",
        "**Example 2:**\n",
        "\n",
        "```\n",
        "Input: nums = [2,2,1,1,1,2,2]\n",
        "Output: 2\n",
        "```\n",
        "\n",
        "**Constraints:**\n",
        "\n",
        "- `n == nums.length`\n",
        "- `1 <= n <= 5 * 10^4`\n",
        "- `-10^9 <= nums[i] <= 10^9`\n",
        "</aside>"
      ],
      "metadata": {
        "id": "OXrMKJ71Q6F5"
      }
    },
    {
      "cell_type": "code",
      "source": [
        "def majorityElement(nums):\n",
        "    count = 0\n",
        "    candidate = None\n",
        "\n",
        "    for num in nums:\n",
        "        if count == 0:\n",
        "            candidate = num\n",
        "        if num == candidate:\n",
        "            count += 1\n",
        "        else:\n",
        "            count -= 1\n",
        "\n",
        "    return candidate\n",
        "\n",
        "\n",
        "# Example usage:\n",
        "\n",
        "nums = [2, 2, 1, 1, 1, 2, 2]\n",
        "output = majorityElement(nums)\n",
        "print(\"Output:\", output)"
      ],
      "metadata": {
        "colab": {
          "base_uri": "https://localhost:8080/"
        },
        "id": "cqLIKzBiQ4iR",
        "outputId": "b0afbb56-05bb-4a66-d6d6-3673b2eb21a2"
      },
      "execution_count": 4,
      "outputs": [
        {
          "output_type": "stream",
          "name": "stdout",
          "text": [
            "Output: 2\n"
          ]
        }
      ]
    },
    {
      "cell_type": "markdown",
      "source": [
        "<aside>\n",
        "💡 4. **Group Anagram**\n",
        "\n",
        "Given an array of strings `strs`, group **the anagrams** together. You can return the answer in **any order**.\n",
        "\n",
        "An **Anagram** is a word or phrase formed by rearranging the letters of a different word or phrase, typically using all the original letters exactly once.\n",
        "\n",
        "**Example 1:**\n",
        "\n",
        "```\n",
        "Input: strs = [\"eat\",\"tea\",\"tan\",\"ate\",\"nat\",\"bat\"]\n",
        "Output: [[\"bat\"],[\"nat\",\"tan\"],[\"ate\",\"eat\",\"tea\"]]\n",
        "```\n",
        "\n",
        "**Example 2:**\n",
        "\n",
        "```\n",
        "Input: strs = [\"\"]\n",
        "Output: [[\"\"]]\n",
        "```\n",
        "\n",
        "**Example 3:**\n",
        "\n",
        "```\n",
        "Input: strs = [\"a\"]\n",
        "Output: [[\"a\"]]\n",
        "```\n",
        "\n",
        "**Constraints:**\n",
        "\n",
        "- `1 <= strs.length <= 10000`\n",
        "- `0 <= strs[i].length <= 100`\n",
        "- `strs[i]` consists of lowercase English letters.\n",
        "</aside>"
      ],
      "metadata": {
        "id": "koWeZU67Q6mw"
      }
    },
    {
      "cell_type": "code",
      "source": [
        "def groupAnagrams(strs):\n",
        "    anagram_groups = {}\n",
        "\n",
        "    for word in strs:\n",
        "        sorted_word = ''.join(sorted(word))\n",
        "        if sorted_word not in anagram_groups:\n",
        "            anagram_groups[sorted_word] = []\n",
        "        anagram_groups[sorted_word].append(word)\n",
        "\n",
        "    return list(anagram_groups.values())\n",
        "\n",
        "\n",
        "# Example usage:\n",
        "\n",
        "strs = [\"eat\", \"tea\", \"tan\", \"ate\", \"nat\", \"bat\"]\n",
        "output = groupAnagrams(strs)\n",
        "print(\"Output:\", output)"
      ],
      "metadata": {
        "colab": {
          "base_uri": "https://localhost:8080/"
        },
        "id": "8QI6BmsrR4dy",
        "outputId": "7b181ecb-488e-427f-aad6-2f2c658f547b"
      },
      "execution_count": 5,
      "outputs": [
        {
          "output_type": "stream",
          "name": "stdout",
          "text": [
            "Output: [['eat', 'tea', 'ate'], ['tan', 'nat'], ['bat']]\n"
          ]
        }
      ]
    },
    {
      "cell_type": "markdown",
      "source": [
        "<aside>\n",
        "💡 5. **Ugly Numbers**\n",
        "\n",
        "An **ugly number** is a positive integer whose prime factors are limited to `2`, `3`, and `5`.\n",
        "\n",
        "Given an integer `n`, return *the* `nth` ***ugly number***.\n",
        "\n",
        "**Example 1:**\n",
        "\n",
        "```\n",
        "Input: n = 10\n",
        "Output: 12\n",
        "Explanation: [1, 2, 3, 4, 5, 6, 8, 9, 10, 12] is the sequence of the first 10 ugly numbers.\n",
        "```\n",
        "\n",
        "**Example 2:**\n",
        "\n",
        "```\n",
        "Input: n = 1\n",
        "Output: 1\n",
        "Explanation: 1 has no prime factors, therefore all of its prime factors are limited to 2, 3, and 5.\n",
        "```\n",
        "\n",
        "**Constraints:**\n",
        "\n",
        "- `1 <= n <= 1690`\n",
        "</aside>"
      ],
      "metadata": {
        "id": "WLJI_IhcRThB"
      }
    },
    {
      "cell_type": "code",
      "source": [
        "def nthUglyNumber(n):\n",
        "    ugly = [1] * n\n",
        "    p2 = p3 = p5 = 0\n",
        "\n",
        "    for i in range(1, n):\n",
        "        ugly[i] = min(ugly[p2] * 2, ugly[p3] * 3, ugly[p5] * 5)\n",
        "        if ugly[i] == ugly[p2] * 2:\n",
        "            p2 += 1\n",
        "        if ugly[i] == ugly[p3] * 3:\n",
        "            p3 += 1\n",
        "        if ugly[i] == ugly[p5] * 5:\n",
        "            p5 += 1\n",
        "\n",
        "    return ugly[-1]\n",
        "\n",
        "\n",
        "# Example usage:\n",
        "\n",
        "n = 10\n",
        "output = nthUglyNumber(n)\n",
        "print(\"Output:\", output)"
      ],
      "metadata": {
        "colab": {
          "base_uri": "https://localhost:8080/"
        },
        "id": "5veU586oSFUO",
        "outputId": "31781c4c-d48f-4f48-ed16-fc4a9b27d329"
      },
      "execution_count": 6,
      "outputs": [
        {
          "output_type": "stream",
          "name": "stdout",
          "text": [
            "Output: 12\n"
          ]
        }
      ]
    },
    {
      "cell_type": "markdown",
      "source": [
        "<aside>\n",
        "💡 6. **Top K Frequent Words**\n",
        "\n",
        "Given an array of strings `words` and an integer `k`, return *the* `k` *most frequent strings*.\n",
        "\n",
        "Return the answer **sorted** by **the frequency** from highest to lowest. Sort the words with the same frequency by their **lexicographical order**.\n",
        "\n",
        "**Example 1:**\n",
        "\n",
        "```\n",
        "Input: words = [\"i\",\"love\",\"leetcode\",\"i\",\"love\",\"coding\"], k = 2\n",
        "Output: [\"i\",\"love\"]\n",
        "Explanation: \"i\" and \"love\" are the two most frequent words.\n",
        "Note that \"i\" comes before \"love\" due to a lower alphabetical order.\n",
        "```\n",
        "\n",
        "**Example 2:**\n",
        "\n",
        "```\n",
        "Input: words = [\"the\",\"day\",\"is\",\"sunny\",\"the\",\"the\",\"the\",\"sunny\",\"is\",\"is\"], k = 4\n",
        "Output: [\"the\",\"is\",\"sunny\",\"day\"]\n",
        "Explanation: \"the\", \"is\", \"sunny\" and \"day\" are the four most frequent words, with the number of occurrence being 4, 3, 2 and 1 respectively.\n",
        "```\n",
        "\n",
        "**Constraints:**\n",
        "\n",
        "- `1 <= words.length <= 500`\n",
        "- `1 <= words[i].length <= 10`\n",
        "- `words[i]` consists of lowercase English letters.\n",
        "- `k` is in the range `[1, The number of **unique** words[i]]`\n",
        "</aside>"
      ],
      "metadata": {
        "id": "wDijuliIRa9Y"
      }
    },
    {
      "cell_type": "code",
      "source": [
        "import heapq\n",
        "from collections import Counter\n",
        "\n",
        "def topKFrequent(words, k):\n",
        "    freq = Counter(words)\n",
        "    heap = []\n",
        "\n",
        "    for word, count in freq.items():\n",
        "        heapq.heappush(heap, (-count, word))\n",
        "        if len(heap) > k:\n",
        "            heapq.heappop(heap)\n",
        "\n",
        "    heap.sort()\n",
        "\n",
        "    return [word for count, word in heap[::-1]]\n",
        "\n",
        "\n",
        "# Example usage:\n",
        "\n",
        "words = [\"the\", \"day\", \"is\", \"sunny\", \"the\", \"the\", \"the\", \"sunny\", \"is\", \"is\"]\n",
        "k = 2\n",
        "output = topKFrequent(words, k)\n",
        "print(\"Output:\", output)"
      ],
      "metadata": {
        "colab": {
          "base_uri": "https://localhost:8080/"
        },
        "id": "I_IzeOQyQ4fi",
        "outputId": "3ca269b6-6115-4002-9198-bee7b0c04113"
      },
      "execution_count": 7,
      "outputs": [
        {
          "output_type": "stream",
          "name": "stdout",
          "text": [
            "Output: ['day', 'sunny']\n"
          ]
        }
      ]
    },
    {
      "cell_type": "markdown",
      "source": [
        "<aside>\n",
        "💡 7. **Sliding Window Maximum**\n",
        "\n",
        "You are given an array of integers `nums`, there is a sliding window of size `k` which is moving from the very left of the array to the very right. You can only see the `k` numbers in the window. Each time the sliding window moves right by one position.\n",
        "\n",
        "Return *the max sliding window*.\n",
        "\n",
        "**Example 1:**\n",
        "\n",
        "```\n",
        "Input: nums = [1,3,-1,-3,5,3,6,7], k = 3\n",
        "Output: [3,3,5,5,6,7]\n",
        "Explanation:\n",
        "Window position                Max\n",
        "---------------               -----\n",
        "[1  3  -1] -3  5  3  6 7         3\n",
        " 1 [3  -1  -3] 5  3  6 7         3\n",
        " 1  3 [-1  -3  5] 3  6 7         5\n",
        " 1  3  -1 [-3  5  3] 6 7         5\n",
        " 1  3  -1  -3 [5  3  6]7         6\n",
        " 1  3  -1  -3  5 [3  6  7]       7\n",
        "```\n",
        "\n",
        "**Example 2:**\n",
        "\n",
        "```\n",
        "Input: nums = [1], k = 1\n",
        "Output: [1]\n",
        "```\n",
        "\n",
        "**Constraints:**\n",
        "\n",
        "- `1 <= nums.length <= 100000`\n",
        "- -`10000 <= nums[i] <= 10000`\n",
        "- `1 <= k <= nums.length`\n",
        "</aside>"
      ],
      "metadata": {
        "id": "-HNjyNlRRgS6"
      }
    },
    {
      "cell_type": "code",
      "source": [
        "from collections import deque\n",
        "\n",
        "def maxSlidingWindow(nums, k):\n",
        "    window = deque()\n",
        "    result = []\n",
        "\n",
        "    for i in range(len(nums)):\n",
        "        # Remove indices outside the current window\n",
        "        if window and window[0] <= i - k:\n",
        "            window.popleft()\n",
        "\n",
        "        # Remove smaller elements from the deque\n",
        "        while window and nums[window[-1]] < nums[i]:\n",
        "            window.pop()\n",
        "\n",
        "        window.append(i)\n",
        "\n",
        "        # Append the maximum element for each window\n",
        "        if i >= k - 1:\n",
        "            result.append(nums[window[0]])\n",
        "\n",
        "    return result\n",
        "\n",
        "\n",
        "# Example usage:\n",
        "\n",
        "nums = [1, 3, -1, -3, 5, 3, 6, 7]\n",
        "k = 3\n",
        "output = maxSlidingWindow(nums, k)\n",
        "print(\"Output:\", output)"
      ],
      "metadata": {
        "colab": {
          "base_uri": "https://localhost:8080/"
        },
        "id": "_HWu-M14SUyo",
        "outputId": "8c56bf44-2aa9-41ea-f915-6f98bde6dbfd"
      },
      "execution_count": 8,
      "outputs": [
        {
          "output_type": "stream",
          "name": "stdout",
          "text": [
            "Output: [3, 3, 5, 5, 6, 7]\n"
          ]
        }
      ]
    },
    {
      "cell_type": "markdown",
      "source": [
        "<aside>\n",
        "💡 8. **Find K Closest Elements**\n",
        "\n",
        "Given a **sorted** integer array `arr`, two integers `k` and `x`, return the `k` closest integers to `x` in the array. The result should also be sorted in ascending order.\n",
        "\n",
        "An integer `a` is closer to `x` than an integer `b` if:\n",
        "\n",
        "- `|a - x| < |b - x|`, or\n",
        "- `|a - x| == |b - x|` and `a < b`\n",
        "\n",
        "**Example 1:**\n",
        "\n",
        "```\n",
        "Input: arr = [1,2,3,4,5], k = 4, x = 3\n",
        "Output: [1,2,3,4]\n",
        "```\n",
        "\n",
        "**Example 2:**\n",
        "\n",
        "```\n",
        "Input: arr = [1,2,3,4,5], k = 4, x = -1\n",
        "Output: [1,2,3,4]\n",
        "```\n",
        "\n",
        "**Constraints:**\n",
        "\n",
        "- `1 <= k <= arr.length`\n",
        "- `1 <= arr.length <= 10000`\n",
        "- `arr` is sorted in **ascending** order.\n",
        "- -`10000 <= arr[i], x <= 10000`\n",
        "</aside>"
      ],
      "metadata": {
        "id": "GZa94wW9QzuR"
      }
    },
    {
      "cell_type": "code",
      "execution_count": 1,
      "metadata": {
        "colab": {
          "base_uri": "https://localhost:8080/"
        },
        "id": "iVKwyJb1QzEL",
        "outputId": "8724f536-7f11-4533-ccf3-6ef3f99b2bdc"
      },
      "outputs": [
        {
          "output_type": "stream",
          "name": "stdout",
          "text": [
            "Output: [1, 2, 3, 4]\n"
          ]
        }
      ],
      "source": [
        "def findClosestElements(arr, k, x):\n",
        "    left = 0\n",
        "    right = len(arr) - 1\n",
        "\n",
        "    while right - left >= k:\n",
        "        if abs(arr[left] - x) > abs(arr[right] - x):\n",
        "            left += 1\n",
        "        else:\n",
        "            right -= 1\n",
        "\n",
        "    return arr[left:right+1]\n",
        "\n",
        "\n",
        "# Example usage:\n",
        "\n",
        "arr = [1, 2, 3, 4, 5]\n",
        "k = 4\n",
        "x = 3\n",
        "result = findClosestElements(arr, k, x)\n",
        "print(\"Output:\", result)"
      ]
    }
  ]
}