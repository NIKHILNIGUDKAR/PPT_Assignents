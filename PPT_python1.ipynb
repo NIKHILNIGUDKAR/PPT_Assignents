{
  "nbformat": 4,
  "nbformat_minor": 0,
  "metadata": {
    "colab": {
      "provenance": []
    },
    "kernelspec": {
      "name": "python3",
      "display_name": "Python 3"
    },
    "language_info": {
      "name": "python"
    }
  },
  "cells": [
    {
      "cell_type": "markdown",
      "source": [
        "1. Write a Python program to reverse a string without using any built-in string reversal functions."
      ],
      "metadata": {
        "id": "XfvmT2mTJipE"
      }
    },
    {
      "cell_type": "code",
      "source": [
        "def reverse_string(string):\n",
        "    reversed_string = \"\"\n",
        "    for i in range(len(string) - 1, -1, -1):\n",
        "        reversed_string += string[i]\n",
        "    return reversed_string"
      ],
      "metadata": {
        "id": "EG1W6n1CJlc2"
      },
      "execution_count": 1,
      "outputs": []
    },
    {
      "cell_type": "markdown",
      "source": [
        "\n",
        "2. Implement a function to check if a given string is a palindrome."
      ],
      "metadata": {
        "id": "BmUvgnT2JtoU"
      }
    },
    {
      "cell_type": "code",
      "source": [
        "def is_palindrome(string):\n",
        "    reversed_string = reverse_string(string)\n",
        "    return string == reversed_string"
      ],
      "metadata": {
        "id": "S9fbTDyEJu5d"
      },
      "execution_count": 2,
      "outputs": []
    },
    {
      "cell_type": "markdown",
      "source": [
        "3. Write a program to find the largest element in a given list."
      ],
      "metadata": {
        "id": "ffiFtjW_J09c"
      }
    },
    {
      "cell_type": "code",
      "source": [
        "def find_largest_element(lst):\n",
        "    largest = lst[0]\n",
        "    for num in lst:\n",
        "        if num > largest:\n",
        "            largest = num\n",
        "    return largest"
      ],
      "metadata": {
        "id": "08l3ViO-J4-n"
      },
      "execution_count": 3,
      "outputs": []
    },
    {
      "cell_type": "markdown",
      "source": [
        "4. Implement a function to count the occurrence of each element in a list."
      ],
      "metadata": {
        "id": "4cHRr4GsJ7r0"
      }
    },
    {
      "cell_type": "code",
      "source": [
        "def count_occurrences(lst):\n",
        "    occurrence_count = {}\n",
        "    for element in lst:\n",
        "        if element in occurrence_count:\n",
        "            occurrence_count[element] += 1\n",
        "        else:\n",
        "            occurrence_count[element] = 1\n",
        "    return occurrence_count"
      ],
      "metadata": {
        "id": "-li5IvkeJ8yV"
      },
      "execution_count": 4,
      "outputs": []
    },
    {
      "cell_type": "markdown",
      "source": [
        "5. Write a Python program to find the second largest number in a list."
      ],
      "metadata": {
        "id": "hA21yGNWKBhE"
      }
    },
    {
      "cell_type": "code",
      "source": [
        "def find_second_largest(lst):\n",
        "    if len(lst) < 2:\n",
        "        return None\n",
        "    largest = lst[0]\n",
        "    second_largest = None\n",
        "    for num in lst:\n",
        "        if num > largest:\n",
        "            second_largest = largest\n",
        "            largest = num\n",
        "        elif num < largest:\n",
        "            if second_largest is None or num > second_largest:\n",
        "                second_largest = num\n",
        "    return second_largest"
      ],
      "metadata": {
        "id": "BURKIfQqKEP9"
      },
      "execution_count": 5,
      "outputs": []
    },
    {
      "cell_type": "markdown",
      "source": [
        "6. Implement a function to remove duplicate elements from a list."
      ],
      "metadata": {
        "id": "PCrwqZB_KG29"
      }
    },
    {
      "cell_type": "code",
      "source": [
        "def remove_duplicates(lst):\n",
        "    unique_lst = []\n",
        "    for element in lst:\n",
        "        if element not in unique_lst:\n",
        "            unique_lst.append(element)\n",
        "    return unique_lst"
      ],
      "metadata": {
        "id": "zV3CkPteKJBF"
      },
      "execution_count": 6,
      "outputs": []
    },
    {
      "cell_type": "markdown",
      "source": [
        "7. Write a program to calculate the factorial of a given number."
      ],
      "metadata": {
        "id": "mSFRj9IWKOm9"
      }
    },
    {
      "cell_type": "code",
      "source": [
        "def factorial(n):\n",
        "    if n == 0 or n == 1:\n",
        "        return 1\n",
        "    else:\n",
        "        return n * factorial(n - 1)"
      ],
      "metadata": {
        "id": "QRk5Ek5jKQB0"
      },
      "execution_count": 7,
      "outputs": []
    },
    {
      "cell_type": "markdown",
      "source": [
        "8. Implement a function to check if a given number is prime."
      ],
      "metadata": {
        "id": "5qUvhA65KUG1"
      }
    },
    {
      "cell_type": "code",
      "source": [
        "def is_prime(n):\n",
        "    if n < 2:\n",
        "        return False\n",
        "    for i in range(2, int(n ** 0.5) + 1):\n",
        "        if n % i == 0:\n",
        "            return False\n",
        "    return True"
      ],
      "metadata": {
        "id": "RiwZh3YsKX89"
      },
      "execution_count": 8,
      "outputs": []
    },
    {
      "cell_type": "markdown",
      "source": [
        "9. Write a Python program to sort a list of integers in ascending order."
      ],
      "metadata": {
        "id": "fc-MW6JDKcc9"
      }
    },
    {
      "cell_type": "code",
      "source": [
        "def sort_list(lst):\n",
        "    return sorted(lst)\n"
      ],
      "metadata": {
        "id": "P7Df5J2JKb78"
      },
      "execution_count": 9,
      "outputs": []
    },
    {
      "cell_type": "markdown",
      "source": [
        "\n",
        "10. Implement a function to find the sum of all numbers in a list."
      ],
      "metadata": {
        "id": "kPugKAyrKgtO"
      }
    },
    {
      "cell_type": "code",
      "source": [
        "def find_sum(lst):\n",
        "    total_sum = 0\n",
        "    for num in lst:\n",
        "        total_sum += num\n",
        "    return total_sum"
      ],
      "metadata": {
        "id": "RYov9RuKKkKd"
      },
      "execution_count": 10,
      "outputs": []
    },
    {
      "cell_type": "markdown",
      "source": [
        "11. Write a program to find the common elements between two lists."
      ],
      "metadata": {
        "id": "mwTd0kbYKlnE"
      }
    },
    {
      "cell_type": "code",
      "source": [
        "def find_common_elements(list1, list2):\n",
        "    return list(set(list1) & set(list2))"
      ],
      "metadata": {
        "id": "689Anoo5Kql2"
      },
      "execution_count": 11,
      "outputs": []
    },
    {
      "cell_type": "markdown",
      "source": [
        "\n",
        "12. Implement a function to check if a given string is an anagram of another string."
      ],
      "metadata": {
        "id": "Im-IyzatKs_O"
      }
    },
    {
      "cell_type": "code",
      "source": [
        "def is_anagram(str1, str2):\n",
        "    return sorted(str1) == sorted(str2)"
      ],
      "metadata": {
        "id": "ObuYmeMFKvAM"
      },
      "execution_count": 12,
      "outputs": []
    },
    {
      "cell_type": "markdown",
      "source": [
        "13. Write a Python program to generate all permutations of a given string."
      ],
      "metadata": {
        "id": "YdVtYOdVKyXU"
      }
    },
    {
      "cell_type": "code",
      "source": [
        "def generate_permutations(string):\n",
        "    if len(string) <= 1:\n",
        "        return [string]\n",
        "    permutations = []\n",
        "    for i in range(len(string)):\n",
        "        char = string[i]\n",
        "        remaining_string = string[:i] + string[i+1:]\n",
        "        for perm in generate_permutations(remaining_string):\n",
        "            permutations.append(char + perm)\n",
        "    return permutations"
      ],
      "metadata": {
        "id": "koA1r_XxK0x8"
      },
      "execution_count": 13,
      "outputs": []
    },
    {
      "cell_type": "markdown",
      "source": [
        "\n",
        "14. Implement a function to calculate the Fibonacci sequence up to a given number of terms."
      ],
      "metadata": {
        "id": "Hg0-amzFK359"
      }
    },
    {
      "cell_type": "code",
      "source": [
        "def fibonacci(n):\n",
        "    sequence = [0, 1]\n",
        "    for i in range(2, n):\n",
        "        sequence.append(sequence[i-1] + sequence[i-2])\n",
        "    return sequence"
      ],
      "metadata": {
        "id": "LVdlXgIiK471"
      },
      "execution_count": 14,
      "outputs": []
    },
    {
      "cell_type": "markdown",
      "source": [
        "15. Write a program to find the median of a list of numbers."
      ],
      "metadata": {
        "id": "6IlXyPP8K75D"
      }
    },
    {
      "cell_type": "code",
      "source": [
        "def find_median(lst):\n",
        "    sorted_lst = sorted(lst)\n",
        "    n = len(sorted_lst)\n",
        "    if n % 2 == 0:\n",
        "        median = (sorted_lst[n//2] + sorted_lst[n//2 - 1]) / 2\n",
        "    else:\n",
        "        median = sorted_lst[n//2]\n",
        "    return median"
      ],
      "metadata": {
        "id": "jNIE2tSGK-L0"
      },
      "execution_count": 15,
      "outputs": []
    },
    {
      "cell_type": "markdown",
      "source": [
        "\n",
        "16. Implement a function to check if a given list is sorted in non-decreasing order."
      ],
      "metadata": {
        "id": "9yS2bLj8LAF9"
      }
    },
    {
      "cell_type": "code",
      "source": [
        "def is_sorted(lst):\n",
        "    return all(lst[i] <= lst[i+1] for i in range(len(lst) - 1))"
      ],
      "metadata": {
        "id": "eh4-1qv4LCal"
      },
      "execution_count": 16,
      "outputs": []
    },
    {
      "cell_type": "markdown",
      "source": [
        "17. Write a Python program to find the intersection of two lists."
      ],
      "metadata": {
        "id": "PTmjVx3TLFDz"
      }
    },
    {
      "cell_type": "code",
      "source": [
        "def find_intersection(list1, list2):\n",
        "    return list(set(list1) & set(list2))"
      ],
      "metadata": {
        "id": "mG5uR8g-LGfl"
      },
      "execution_count": 17,
      "outputs": []
    },
    {
      "cell_type": "markdown",
      "source": [
        "18. Implement a function to find the maximum subarray sum in a given list."
      ],
      "metadata": {
        "id": "dh37PuZULKu7"
      }
    },
    {
      "cell_type": "code",
      "source": [
        "def find_maximum_subarray_sum(lst):\n",
        "    max_sum = float('-inf')\n",
        "    current_sum = 0\n",
        "    for num in lst:\n",
        "        current_sum = max(num, current_sum + num)\n",
        "        max_sum = max(max_sum, current_sum)\n",
        "    return max_sum"
      ],
      "metadata": {
        "id": "UxJs7qa5LNwc"
      },
      "execution_count": 18,
      "outputs": []
    },
    {
      "cell_type": "markdown",
      "source": [
        "19. Write a program to remove all vowels from a given string.\n"
      ],
      "metadata": {
        "id": "0CO_nZ92LSaw"
      }
    },
    {
      "cell_type": "code",
      "source": [
        "def remove_vowels(string):\n",
        "    vowels = ['a', 'e', 'i', 'o', 'u', 'A', 'E', 'I', 'O', 'U']\n",
        "    return ''.join(char for char in string if char not in vowels)"
      ],
      "metadata": {
        "id": "gaKnCDQQLU7N"
      },
      "execution_count": 19,
      "outputs": []
    },
    {
      "cell_type": "markdown",
      "source": [
        "20. Implement a function to reverse the order of words in a given sentence."
      ],
      "metadata": {
        "id": "JS61Ct7ILZPs"
      }
    },
    {
      "cell_type": "code",
      "source": [
        "def reverse_sentence(sentence):\n",
        "    words = sentence.split()\n",
        "    reversed_sentence = ' '.join(words[::-1])\n",
        "    return reversed_sentence"
      ],
      "metadata": {
        "id": "-Ms8oNBXLaR-"
      },
      "execution_count": 20,
      "outputs": []
    },
    {
      "cell_type": "markdown",
      "source": [
        "\n",
        "21. Write a Python program to check if two strings are anagrams of each other."
      ],
      "metadata": {
        "id": "iVq5y5aSLZKc"
      }
    },
    {
      "cell_type": "code",
      "source": [
        "def are_anagrams(str1, str2):\n",
        "    return sorted(str1) == sorted(str2)"
      ],
      "metadata": {
        "id": "qI6xYJOULoaV"
      },
      "execution_count": 21,
      "outputs": []
    },
    {
      "cell_type": "markdown",
      "source": [
        "22. Implement a function to find the first non-repeating character in a string."
      ],
      "metadata": {
        "id": "IaS4lvqxLsdt"
      }
    },
    {
      "cell_type": "code",
      "source": [
        "def find_first_non_repeating_char(string):\n",
        "    char_count = {}\n",
        "    for char in string:\n",
        "        if char in char_count:\n",
        "            char_count[char] += 1\n",
        "        else:\n",
        "            char_count[char] = 1\n",
        "    for char in string:\n",
        "        if char_count[char] == 1:\n",
        "            return char\n",
        "    return None"
      ],
      "metadata": {
        "id": "UFz6ImL4LumV"
      },
      "execution_count": 22,
      "outputs": []
    },
    {
      "cell_type": "markdown",
      "source": [
        "\n",
        "23. Write a program to find the prime factors of a given number."
      ],
      "metadata": {
        "id": "PtdeEGvzLwvE"
      }
    },
    {
      "cell_type": "code",
      "source": [
        "def find_prime_factors(n):\n",
        "    factors = []\n",
        "    i = 2\n",
        "    while i * i <= n:\n",
        "        if n % i:\n",
        "            i += 1\n",
        "        else:\n",
        "            n //= i\n",
        "            factors.append(i)\n",
        "    if n > 1:\n",
        "        factors.append(n)\n",
        "    return factors"
      ],
      "metadata": {
        "id": "t-pb5R1ZLzP0"
      },
      "execution_count": 23,
      "outputs": []
    },
    {
      "cell_type": "markdown",
      "source": [
        "24. Implement a function to check if a given number is a power of two."
      ],
      "metadata": {
        "id": "OEBo9HMyL481"
      }
    },
    {
      "cell_type": "code",
      "source": [
        "def is_power_of_two(n):\n",
        "    if n <= 0:\n",
        "        return False\n",
        "    return (n & (n - 1)) == 0"
      ],
      "metadata": {
        "id": "z5p-i0iRL6Lk"
      },
      "execution_count": 24,
      "outputs": []
    },
    {
      "cell_type": "markdown",
      "source": [
        "25. Write a Python program to merge two sorted lists into a single sorted list."
      ],
      "metadata": {
        "id": "_L3czS6kL6pt"
      }
    },
    {
      "cell_type": "code",
      "source": [
        "def merge_sorted_lists(list1, list2):\n",
        "    merged_list = []\n",
        "    i = 0\n",
        "    j = 0\n",
        "    while i < len(list1) and j < len(list2):\n",
        "        if list1[i] < list2[j]:\n",
        "            merged_list.append(list1[i])\n",
        "            i += 1\n",
        "        else:\n",
        "            merged_list.append(list2[j])\n",
        "            j += 1\n",
        "    merged_list.extend(list1[i:])\n",
        "    merged_list.extend(list2[j:])\n",
        "    return merged_list"
      ],
      "metadata": {
        "id": "WqT5b0T5L-pU"
      },
      "execution_count": 25,
      "outputs": []
    },
    {
      "cell_type": "markdown",
      "source": [
        "26. Implement a function to find the mode of a list of numbers.\n"
      ],
      "metadata": {
        "id": "4aZcCu0RMALf"
      }
    },
    {
      "cell_type": "code",
      "source": [
        "from collections import Counter\n",
        "\n",
        "def find_mode(lst):\n",
        "    counter = Counter(lst)\n",
        "    max_count = max(counter.values())\n",
        "    mode = [num for num, count in counter.items() if count == max_count]\n",
        "    return mode"
      ],
      "metadata": {
        "id": "ABtDY_h9MBAd"
      },
      "execution_count": 26,
      "outputs": []
    },
    {
      "cell_type": "markdown",
      "source": [
        "27. Write a program to find the greatest common divisor (GCD) of two numbers."
      ],
      "metadata": {
        "id": "KT0m6LoZMBgs"
      }
    },
    {
      "cell_type": "code",
      "source": [
        "def gcd(a, b):\n",
        "    while b != 0:\n",
        "        a, b = b, a % b\n",
        "    return a"
      ],
      "metadata": {
        "id": "lvLqraX7MUze"
      },
      "execution_count": 27,
      "outputs": []
    },
    {
      "cell_type": "markdown",
      "source": [
        "28. Implement a function to calculate the square root of a given number.\n"
      ],
      "metadata": {
        "id": "wTc8eTVAMa-E"
      }
    },
    {
      "cell_type": "code",
      "source": [
        "def sqrt(n):\n",
        "    if n < 0:\n",
        "        raise ValueError(\"Square root of a negative number is undefined.\")\n",
        "    guess = n\n",
        "    while abs(guess * guess - n) > 1e-6:\n",
        "        guess = (guess + n / guess) / 2\n",
        "    return guess"
      ],
      "metadata": {
        "id": "pzlwALruMcu9"
      },
      "execution_count": 28,
      "outputs": []
    },
    {
      "cell_type": "markdown",
      "source": [
        "\n",
        "\n",
        "29. Write a Python program to check if a given string is a valid palindrome ignoring non-alphanumeric characters.\n",
        "\n",
        "\n"
      ],
      "metadata": {
        "id": "tifHS9DcJgG-"
      }
    },
    {
      "cell_type": "code",
      "source": [
        "import re\n",
        "\n",
        "def is_valid_palindrome_ignore_nonalphanumeric(string):\n",
        "    alphanumeric_string = re.sub(r'[^a-zA-Z0-9]', '', string)\n",
        "    alphanumeric_string = alphanumeric_string.lower()\n",
        "    return alphanumeric_string == alphanumeric_string[::-1]"
      ],
      "metadata": {
        "id": "CShJRSsKMdiM"
      },
      "execution_count": 29,
      "outputs": []
    },
    {
      "cell_type": "markdown",
      "source": [
        "30. Implement a function to find the minimum element in a rotated sorted list."
      ],
      "metadata": {
        "id": "5soRxSWJMe50"
      }
    },
    {
      "cell_type": "code",
      "source": [
        "def find_min_rotated_sorted(lst):\n",
        "    left = 0\n",
        "    right = len(lst) - 1\n",
        "    while left < right:\n",
        "        mid = left + (right - left) // 2\n",
        "        if lst[mid] > lst[right]:\n",
        "            left = mid + 1\n",
        "        else:\n",
        "            right = mid\n",
        "    return lst[left]"
      ],
      "metadata": {
        "id": "XuJoaxdSNKgX"
      },
      "execution_count": 30,
      "outputs": []
    },
    {
      "cell_type": "markdown",
      "source": [
        "31. Write a program to find the sum of all even numbers in a list.\n"
      ],
      "metadata": {
        "id": "O85_JjACMh5m"
      }
    },
    {
      "cell_type": "code",
      "source": [
        "def find_sum_of_even_numbers(lst):\n",
        "    return sum(num for num in lst if num % 2 == 0)"
      ],
      "metadata": {
        "id": "BcEau5XHNLVE"
      },
      "execution_count": 31,
      "outputs": []
    },
    {
      "cell_type": "markdown",
      "source": [
        "\n",
        "32. Implement a function to calculate the power of a number using recursion."
      ],
      "metadata": {
        "id": "n7XaM4t9MjzM"
      }
    },
    {
      "cell_type": "code",
      "source": [
        "def power(base, exponent):\n",
        "    if exponent == 0:\n",
        "        return 1\n",
        "    elif exponent > 0:\n",
        "        return base * power(base, exponent - 1)\n",
        "    else:\n",
        "        return 1 / (base * power(base, -exponent - 1))"
      ],
      "metadata": {
        "id": "pGsqad_aNLyc"
      },
      "execution_count": 32,
      "outputs": []
    },
    {
      "cell_type": "markdown",
      "source": [
        "33. Write a Python program to remove duplicates from a list while preserving the order."
      ],
      "metadata": {
        "id": "21P5LhPyMkrt"
      }
    },
    {
      "cell_type": "code",
      "source": [
        "def remove_duplicates_preserve_order(lst):\n",
        "    seen = set()\n",
        "    unique_lst = []\n",
        "    for item in lst:\n",
        "        if item not in seen:\n",
        "            seen.add(item)\n",
        "            unique_lst.append(item)\n",
        "    return unique_lst"
      ],
      "metadata": {
        "id": "eRCrkzTCMows"
      },
      "execution_count": 33,
      "outputs": []
    },
    {
      "cell_type": "markdown",
      "source": [
        "\n",
        "\n",
        "34. Implement a function to find the longest common prefix among a list of strings."
      ],
      "metadata": {
        "id": "cT-qAslGMYON"
      }
    },
    {
      "cell_type": "code",
      "execution_count": 34,
      "metadata": {
        "id": "7c6VK05sJbOp"
      },
      "outputs": [],
      "source": [
        "def find_longest_common_prefix(strings):\n",
        "    if not strings:\n",
        "        return \"\"\n",
        "    min_length = min(len(string) for string in strings)\n",
        "    prefix = \"\"\n",
        "    for i in range(min_length):\n",
        "        char = strings[0][i]\n",
        "        if all(string[i] == char for string in strings):\n",
        "            prefix += char\n",
        "        else:\n",
        "            break\n",
        "    return prefix"
      ]
    },
    {
      "cell_type": "markdown",
      "source": [
        "35. Write a program to check if a given number is a perfect square.\n",
        "\n"
      ],
      "metadata": {
        "id": "fgrdS4bMMIh0"
      }
    },
    {
      "cell_type": "code",
      "source": [
        "def is_perfect_square(n):\n",
        "    return n >= 0 and int(n ** 0.5) ** 2 == n"
      ],
      "metadata": {
        "id": "xIgqORW6NEfN"
      },
      "execution_count": 35,
      "outputs": []
    },
    {
      "cell_type": "markdown",
      "source": [
        "36. Implement a function to calculate the product of all elements in a list."
      ],
      "metadata": {
        "id": "_Y03lXLdNDzX"
      }
    },
    {
      "cell_type": "code",
      "source": [
        "from functools import reduce\n",
        "import operator\n",
        "\n",
        "def calculate_product(lst):\n",
        "    return reduce(operator.mul, lst, 1)"
      ],
      "metadata": {
        "id": "3V6VqaCrNFSH"
      },
      "execution_count": 36,
      "outputs": []
    },
    {
      "cell_type": "markdown",
      "source": [
        "37. Write a Python program to reverse the order of words in a sentence while preserving the word order.\n"
      ],
      "metadata": {
        "id": "dWU3VyhLMKdF"
      }
    },
    {
      "cell_type": "code",
      "source": [
        "def reverse_words_preserve_order(sentence):\n",
        "    words = sentence.split()\n",
        "    reversed_words = words[::-1]\n",
        "    reversed_sentence = ' '.join(reversed_words)\n",
        "    return reversed_sentence"
      ],
      "metadata": {
        "id": "okvxRPKFNGI9"
      },
      "execution_count": 37,
      "outputs": []
    },
    {
      "cell_type": "markdown",
      "source": [
        "38. Implement a function to find the missing number in a given list of consecutive numbers.\n"
      ],
      "metadata": {
        "id": "3rHJTAzaMsD8"
      }
    },
    {
      "cell_type": "code",
      "source": [
        "def find_missing_number(lst):\n",
        "    n = len(lst) + 1\n",
        "    expected_sum = n * (n + 1) // 2\n",
        "    actual_sum = sum(lst)\n",
        "    return expected_sum - actual_sum"
      ],
      "metadata": {
        "id": "IVsXxJTdNG31"
      },
      "execution_count": 38,
      "outputs": []
    },
    {
      "cell_type": "markdown",
      "source": [
        "39. Write a program to find the sum of digits of a given number.\n"
      ],
      "metadata": {
        "id": "uW991cgeMvM9"
      }
    },
    {
      "cell_type": "code",
      "source": [
        "def find_sum_of_digits(n):\n",
        "    sum_of_digits = 0\n",
        "    while n > 0:\n",
        "        digit = n % 10\n",
        "        sum_of_digits += digit\n",
        "        n //= 10\n",
        "    return sum_of_digits"
      ],
      "metadata": {
        "id": "4qJCwQ3wNHfw"
      },
      "execution_count": 39,
      "outputs": []
    },
    {
      "cell_type": "markdown",
      "source": [
        "40. Implement a function to check if a given string is a valid palindrome considering case sensitivity.\n"
      ],
      "metadata": {
        "id": "ZnMal_nIMwx8"
      }
    },
    {
      "cell_type": "code",
      "source": [
        "def is_valid_palindrome_case_sensitive(string):\n",
        "    return string == string[::-1]"
      ],
      "metadata": {
        "id": "NQfrCEinNIAV"
      },
      "execution_count": 40,
      "outputs": []
    },
    {
      "cell_type": "markdown",
      "source": [
        "41. Write a Python program to find the smallest missing positive integer in a list.\n"
      ],
      "metadata": {
        "id": "3EvlgVS2M0FE"
      }
    },
    {
      "cell_type": "code",
      "source": [
        "def find_smallest_missing_positive(lst):\n",
        "    n = len(lst)\n",
        "    for i in range(n):\n",
        "        while 1 <= lst[i] <= n and lst[i] != lst[lst[i] - 1]:\n",
        "            lst[lst[i] - 1], lst[i] = lst[i], lst[lst[i] - 1]\n",
        "    for i in range(n):\n",
        "        if lst[i] != i + 1:\n",
        "            return i + 1\n",
        "    return n + 1"
      ],
      "metadata": {
        "id": "vtxOic2PNIjF"
      },
      "execution_count": 41,
      "outputs": []
    },
    {
      "cell_type": "markdown",
      "source": [
        "42. Implement a function to find the longest palindrome substring in a given string.\n"
      ],
      "metadata": {
        "id": "vDZQIl5uM07j"
      }
    },
    {
      "cell_type": "code",
      "source": [
        "def find_longest_palindrome_substring(string):\n",
        "    longest_palindrome = \"\"\n",
        "    n = len(string)\n",
        "    for i in range(n):\n",
        "        for j in range(i, n):\n",
        "            substring = string[i:j+1]\n",
        "            if substring == substring[::-1] and len(substring) > len(longest_palindrome):\n",
        "                longest_palindrome = substring\n",
        "    return longest_palindrome"
      ],
      "metadata": {
        "id": "0fehxaT9NJHl"
      },
      "execution_count": 42,
      "outputs": []
    },
    {
      "cell_type": "markdown",
      "source": [
        "43. Write a program to find the number of occurrences of a given element in a list.\n"
      ],
      "metadata": {
        "id": "wfVdlDRuM5cD"
      }
    },
    {
      "cell_type": "code",
      "source": [
        "def count_occurrences(lst, element):\n",
        "    return lst.count(element)"
      ],
      "metadata": {
        "id": "MW9zwedlNAw8"
      },
      "execution_count": 43,
      "outputs": []
    },
    {
      "cell_type": "markdown",
      "source": [
        "44. Implement a function to check if a given number is a perfect number.\n"
      ],
      "metadata": {
        "id": "PA_rZ9cYM7sd"
      }
    },
    {
      "cell_type": "code",
      "source": [
        "def is_perfect_number(n):\n",
        "    if n <= 1:\n",
        "        return False\n",
        "    divisors = [1]\n",
        "    for i in range(2, int(n**0.5) + 1):\n",
        "        if n % i == 0:\n",
        "            divisors.append(i)\n",
        "            if i != n // i:\n",
        "                divisors.append(n // i)\n",
        "    return sum(divisors) == n"
      ],
      "metadata": {
        "id": "aDgObiWyNAfl"
      },
      "execution_count": 44,
      "outputs": []
    },
    {
      "cell_type": "markdown",
      "source": [
        "45. Write a Python program to remove all duplicates from a string.\n"
      ],
      "metadata": {
        "id": "lXMG_DxTM9lk"
      }
    },
    {
      "cell_type": "code",
      "source": [
        "def remove_duplicates_from_string(string):\n",
        "    unique_chars = []\n",
        "    for char in string:\n",
        "        if char not in unique_chars:\n",
        "            unique_chars.append(char)\n",
        "    return ''.join(unique_chars)"
      ],
      "metadata": {
        "id": "CoQ9rj3RNAL8"
      },
      "execution_count": 45,
      "outputs": []
    },
    {
      "cell_type": "markdown",
      "source": [
        "46. Implement a function to find the first missing positive"
      ],
      "metadata": {
        "id": "rqVt6rfJM-vE"
      }
    },
    {
      "cell_type": "code",
      "source": [
        "def find_first_missing_positive(nums):\n",
        "    n = len(nums)\n",
        "    for i in range(n):\n",
        "        while 1 <= nums[i] <= n and nums[i] != nums[nums[i] - 1]:\n",
        "            nums[nums[i] - 1], nums[i] = nums[i], nums[nums[i] - 1]\n",
        "    for i in range(n):\n",
        "        if nums[i] != i + 1:\n",
        "            return i + 1\n",
        "    return n + 1"
      ],
      "metadata": {
        "id": "xjujdD1_M_T1"
      },
      "execution_count": 46,
      "outputs": []
    }
  ]
}