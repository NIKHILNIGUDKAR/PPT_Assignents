{
  "nbformat": 4,
  "nbformat_minor": 0,
  "metadata": {
    "colab": {
      "provenance": []
    },
    "kernelspec": {
      "name": "python3",
      "display_name": "Python 3"
    },
    "language_info": {
      "name": "python"
    }
  },
  "cells": [
    {
      "cell_type": "markdown",
      "source": [
        " <aside>\n",
        "💡 Question-1\n",
        "\n",
        "You are given a binary tree. The binary tree is represented using the TreeNode class. Each TreeNode has an integer value and left and right children, represented using the TreeNode class itself. Convert this binary tree into a binary search tree.\n",
        "\n",
        "Input:\n",
        "\n",
        "        10\n",
        "\n",
        "       /   \\\n",
        "\n",
        "     2      7\n",
        "\n",
        "   /   \\\n",
        "\n",
        " 8      4\n",
        "\n",
        "Output:\n",
        "\n",
        "        8\n",
        "\n",
        "      /   \\\n",
        "\n",
        "    4     10\n",
        "\n",
        "  /   \\\n",
        "\n",
        "2      7\n",
        "\n",
        "</aside>"
      ],
      "metadata": {
        "id": "xHZ1aDnrLSrE"
      }
    },
    {
      "cell_type": "markdown",
      "source": [
        "\n",
        "To convert a binary tree into a binary search tree, we need to rearrange the nodes in a way that the resulting tree satisfies the properties of a binary search tree, where the values of nodes in the left subtree are less than the node's value, and the values of nodes in the right subtree are greater than the node's value.\n",
        "\n",
        "Here's the algorithm to convert a binary tree into a binary search tree:\n",
        "\n",
        "Perform an inorder traversal of the binary tree to collect all the node values.\n",
        "Sort the collected values in ascending order.\n",
        "Perform an inorder traversal again, but this time, replace the node values with the sorted values.\n",
        "The binary tree will now be converted into a binary search tree.\n",
        "Let's apply this algorithm to the given binary tree:\n",
        "\n",
        "Input:\n",
        "```\n",
        "    10\n",
        "   /   \\\n",
        "  2      7\n",
        "/   \\\n",
        "```"
      ],
      "metadata": {
        "id": "jA8hfc3hMQgT"
      }
    },
    {
      "cell_type": "markdown",
      "source": [
        "<aside>\n",
        "💡 Question-2:\n",
        "\n",
        "Given a Binary Search Tree with all unique values and two keys. Find the distance between two nodes in BST. The given keys always exist in BST.\n",
        "\n",
        "Example:\n",
        "\n",
        "Consider the following BST:\n",
        "\n",
        "</aside>**Input-1:**\n",
        "\n",
        "n = 9\n",
        "\n",
        "values = [8, 3, 1, 6, 4, 7, 10, 14,13]\n",
        "\n",
        "node-1 = 6\n",
        "\n",
        "node-2 = 14\n",
        "\n",
        "**Output-1:**\n",
        "\n",
        "The distance between the two keys = 4\n",
        "\n",
        "**Input-2:**\n",
        "\n",
        "n = 9\n",
        "\n",
        "values = [8, 3, 1, 6, 4, 7, 10, 14,13]\n",
        "\n",
        "node-1 = 3\n",
        "\n",
        "node-2 = 4\n",
        "\n",
        "**Output-2:**\n",
        "\n",
        "The distance between the two keys = 2"
      ],
      "metadata": {
        "id": "-2qrHysCLShq"
      }
    },
    {
      "cell_type": "code",
      "source": [
        "class TreeNode:\n",
        "    def __init__(self, val):\n",
        "        self.val = val\n",
        "        self.left = None\n",
        "        self.right = None\n",
        "\n",
        "def findDistance(root, node1, node2):\n",
        "    if root is None:\n",
        "        return 0\n",
        "\n",
        "    if node1 < root.val and node2 < root.val:\n",
        "        return findDistance(root.left, node1, node2)\n",
        "\n",
        "    if node1 > root.val and node2 > root.val:\n",
        "        return findDistance(root.right, node1, node2)\n",
        "\n",
        "    # Nodes are on different sides, so the current root is the common ancestor\n",
        "    return distanceFromNode(root, node1) + distanceFromNode(root, node2)\n",
        "\n",
        "def distanceFromNode(root, node):\n",
        "    if root.val == node:\n",
        "        return 0\n",
        "\n",
        "    if node < root.val:\n",
        "        return 1 + distanceFromNode(root.left, node)\n",
        "\n",
        "    return 1 + distanceFromNode(root.right, node)\n",
        "\n",
        "\n",
        "# Example usage:\n",
        "\n",
        "# Create the BST\n",
        "root = TreeNode(8)\n",
        "root.left = TreeNode(3)\n",
        "root.right = TreeNode(10)\n",
        "root.left.left = TreeNode(1)\n",
        "root.left.right = TreeNode(6)\n",
        "root.left.right.left = TreeNode(4)\n",
        "root.left.right.right = TreeNode(7)\n",
        "root.right.right = TreeNode(14)\n",
        "root.right.right.left = TreeNode(13)\n",
        "\n",
        "node1 = 6\n",
        "node2 = 14\n",
        "distance = findDistance(root, node1, node2)\n",
        "print(\"The distance between the two keys =\", distance)"
      ],
      "metadata": {
        "colab": {
          "base_uri": "https://localhost:8080/"
        },
        "id": "CIr4NQ_JLTwr",
        "outputId": "84c9ab4a-aa33-4e0f-fe03-715623a8def4"
      },
      "execution_count": 5,
      "outputs": [
        {
          "output_type": "stream",
          "name": "stdout",
          "text": [
            "The distance between the two keys = 4\n"
          ]
        }
      ]
    },
    {
      "cell_type": "markdown",
      "source": [
        "<aside>\n",
        "💡 Question-3:\n",
        "\n",
        "Write a program to convert a binary tree to a doubly linked list.\n",
        "\n",
        "Input:\n",
        "\n",
        "        10\n",
        "\n",
        "       /   \\\n",
        "\n",
        "     5     20\n",
        "\n",
        "           /   \\\n",
        "\n",
        "        30     35\n",
        "\n",
        "Output:\n",
        "\n",
        "5 10 30 20 35\n",
        "\n",
        "</aside>"
      ],
      "metadata": {
        "id": "fjL1_T8zLSVy"
      }
    },
    {
      "cell_type": "code",
      "source": [
        "class TreeNode:\n",
        "    def __init__(self, value):\n",
        "        self.val = value\n",
        "        self.left = None\n",
        "        self.right = None\n",
        "\n",
        "def convertToDLL(root):\n",
        "    if not root:\n",
        "        return None\n",
        "\n",
        "    # Helper function for inorder traversal\n",
        "    def inorder(node):\n",
        "        nonlocal prev, head\n",
        "\n",
        "        if not node:\n",
        "            return\n",
        "\n",
        "        # Traverse left subtree\n",
        "        inorder(node.left)\n",
        "\n",
        "        # Update pointers\n",
        "        if prev:\n",
        "            prev.right = node\n",
        "            node.left = prev\n",
        "        else:\n",
        "            head = node\n",
        "\n",
        "        prev = node\n",
        "\n",
        "        # Traverse right subtree\n",
        "        inorder(node.right)\n",
        "\n",
        "    prev = None\n",
        "    head = None\n",
        "\n",
        "    # Perform inorder traversal\n",
        "    inorder(root)\n",
        "\n",
        "    # Set the left pointer of the head and right pointer of the last visited node to None\n",
        "    head.left = None\n",
        "    prev.right = None\n",
        "\n",
        "    return head\n",
        "\n",
        "# Create the binary tree\n",
        "root = TreeNode(10)\n",
        "root.left = TreeNode(5)\n",
        "root.right = TreeNode(20)\n",
        "root.right.left = TreeNode(30)\n",
        "root.right.right = TreeNode(35)\n",
        "\n",
        "# Convert binary tree to doubly linked list\n",
        "head = convertToDLL(root)\n",
        "\n",
        "# Print the doubly linked list\n",
        "current = head\n",
        "while current:\n",
        "    print(current.val, end=\" \")\n",
        "    current = current.right"
      ],
      "metadata": {
        "colab": {
          "base_uri": "https://localhost:8080/"
        },
        "id": "GzoPm10WLUGL",
        "outputId": "c7400575-5349-4b5c-f063-1569c4d0c0c1"
      },
      "execution_count": 2,
      "outputs": [
        {
          "output_type": "stream",
          "name": "stdout",
          "text": [
            "5 10 30 20 35 "
          ]
        }
      ]
    },
    {
      "cell_type": "markdown",
      "source": [
        "<aside>\n",
        "💡 Question-4:\n",
        "\n",
        "Write a program to connect nodes at the same level.\n",
        "\n",
        "Input:\n",
        "\n",
        "        1\n",
        "\n",
        "      /   \\\n",
        "\n",
        "    2      3\n",
        "\n",
        "  /   \\   /   \\\n",
        "\n",
        "4     5 6    7\n",
        "\n",
        "Output:\n",
        "\n",
        "1 → -1\n",
        "\n",
        "2 → 3\n",
        "\n",
        "3 → -1\n",
        "\n",
        "4 → 5\n",
        "\n",
        "5 → 6\n",
        "\n",
        "6 → 7\n",
        "\n",
        "7 → -1\n",
        "\n",
        "</aside>"
      ],
      "metadata": {
        "id": "d1kTuUrHLSFZ"
      }
    },
    {
      "cell_type": "code",
      "execution_count": 1,
      "metadata": {
        "colab": {
          "base_uri": "https://localhost:8080/"
        },
        "id": "5yGDOJk1LQdN",
        "outputId": "3edba3c6-1640-439c-ace6-ac235036c83a"
      },
      "outputs": [
        {
          "output_type": "stream",
          "name": "stdout",
          "text": [
            "1 → -1\n",
            "2 → 3 → -1\n",
            "4 → 5 → 6 → 7 → -1\n"
          ]
        }
      ],
      "source": [
        "class TreeNode:\n",
        "    def __init__(self, value):\n",
        "        self.val = value\n",
        "        self.left = None\n",
        "        self.right = None\n",
        "        self.next = None\n",
        "\n",
        "def connectNodes(root):\n",
        "    if not root:\n",
        "        return root\n",
        "\n",
        "    # Perform level order traversal\n",
        "    queue = [root]\n",
        "\n",
        "    while queue:\n",
        "        size = len(queue)\n",
        "        prev = None\n",
        "\n",
        "        for _ in range(size):\n",
        "            node = queue.pop(0)\n",
        "\n",
        "            # Connect the current node to the previous node\n",
        "            if prev:\n",
        "                prev.next = node\n",
        "\n",
        "            prev = node\n",
        "\n",
        "            # Add the children of the current node to the queue\n",
        "            if node.left:\n",
        "                queue.append(node.left)\n",
        "            if node.right:\n",
        "                queue.append(node.right)\n",
        "\n",
        "    return root\n",
        "\n",
        "# Create the binary tree\n",
        "root = TreeNode(1)\n",
        "root.left = TreeNode(2)\n",
        "root.right = TreeNode(3)\n",
        "root.left.left = TreeNode(4)\n",
        "root.left.right = TreeNode(5)\n",
        "root.right.left = TreeNode(6)\n",
        "root.right.right = TreeNode(7)\n",
        "\n",
        "# Connect nodes at the same level\n",
        "connectNodes(root)\n",
        "\n",
        "# Print the connected nodes\n",
        "current = root\n",
        "while current:\n",
        "    node = current\n",
        "    while node:\n",
        "        if node.next:\n",
        "            print(node.val, end=\" → \")\n",
        "        else:\n",
        "            print(node.val, end=\" → -1\\n\")\n",
        "        node = node.next\n",
        "    current = current.left"
      ]
    }
  ]
}